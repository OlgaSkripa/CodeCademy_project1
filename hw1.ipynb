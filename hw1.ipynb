{
  "nbformat": 4,
  "nbformat_minor": 0,
  "metadata": {
    "colab": {
      "provenance": [],
      "include_colab_link": true
    },
    "kernelspec": {
      "name": "python3",
      "display_name": "Python 3"
    },
    "language_info": {
      "name": "python"
    }
  },
  "cells": [
    {
      "cell_type": "markdown",
      "metadata": {
        "id": "view-in-github",
        "colab_type": "text"
      },
      "source": [
        "<a href=\"https://colab.research.google.com/github/OlgaSkripa/CodeCademy_project1/blob/main/hw1.ipynb\" target=\"_parent\"><img src=\"https://colab.research.google.com/assets/colab-badge.svg\" alt=\"Open In Colab\"/></a>"
      ]
    },
    {
      "cell_type": "markdown",
      "source": [
        "# Домашнее задание 1"
      ],
      "metadata": {
        "id": "pjgbgFtp-Exl"
      }
    },
    {
      "cell_type": "markdown",
      "source": [
        "Важный комментарий: **назовите** файл решения так, чтобы преподаватель **понимал**, кто сделал его.\n",
        "\n",
        "Большое спасибо и успехов :)"
      ],
      "metadata": {
        "id": "3ntvC_39ER7Q"
      }
    },
    {
      "cell_type": "markdown",
      "source": [
        "<center>\n",
        "<img src=\"https://meme-generator.com/wp-content/uploads/mememe/2019/11/mememe_cb8e239ef97eb73a7d04ecf46ed4bf5c-1.jpg\" alt=\"YOU-ROCK\" width=\"500\" height=\"300\">\n",
        "</center>"
      ],
      "metadata": {
        "id": "cRa8_KBNXPZV"
      }
    },
    {
      "cell_type": "markdown",
      "source": [
        "## Задача 1"
      ],
      "metadata": {
        "id": "VaEW95Gq-Gig"
      }
    },
    {
      "cell_type": "markdown",
      "source": [
        "Напишите программу, которая спрашивает имя пользователя и выводит:\n",
        "\n",
        "\"Привет, [имя]! Рад тебя видеть!\""
      ],
      "metadata": {
        "id": "Mg6Z1Pdb-NYK"
      }
    },
    {
      "cell_type": "code",
      "source": [
        "print('Привет, Ольга! Рад тебя видеть!')"
      ],
      "metadata": {
        "id": "SBdDwopTcLjU"
      },
      "execution_count": null,
      "outputs": []
    },
    {
      "cell_type": "markdown",
      "source": [
        "## Задача 2"
      ],
      "metadata": {
        "id": "7oGsmOxw-UQk"
      }
    },
    {
      "cell_type": "markdown",
      "source": [
        "Пользователь вводит число. Определите, чётное оно или нет, и выведите ответ. Предпочтительнеее сделать задачу в одну или две строчки."
      ],
      "metadata": {
        "id": "VcpcfZ4u-qZg"
      }
    },
    {
      "cell_type": "code",
      "source": [],
      "metadata": {
        "id": "5425ACzKbzYu"
      },
      "execution_count": null,
      "outputs": []
    },
    {
      "cell_type": "markdown",
      "source": [
        "## Задача 3"
      ],
      "metadata": {
        "id": "xxWXsauJ-WOU"
      }
    },
    {
      "cell_type": "markdown",
      "source": [
        "Напишите функцию, которая считает количество гласных букв (a, e, i, o, u) в строке."
      ],
      "metadata": {
        "id": "DS4KyJXL-rRS"
      }
    },
    {
      "cell_type": "code",
      "source": [],
      "metadata": {
        "id": "PfoLcEDTZcHy"
      },
      "execution_count": null,
      "outputs": []
    },
    {
      "cell_type": "markdown",
      "source": [
        "## Задача 4"
      ],
      "metadata": {
        "id": "wDt-2r4t-dIA"
      }
    },
    {
      "cell_type": "markdown",
      "source": [
        "Создайте класс Point с координатами x и y. Добавьте метод для вычисления расстояния до другой точки. Посчитайте расстояние между Point(3, 4) и Point(0, 0)."
      ],
      "metadata": {
        "id": "7raGVy3m-r4U"
      }
    },
    {
      "cell_type": "code",
      "source": [],
      "metadata": {
        "id": "ZB9mK-dMaaUP"
      },
      "execution_count": null,
      "outputs": []
    },
    {
      "cell_type": "markdown",
      "source": [
        "<h1>\n",
        "<b>\n",
        "<font color='red'>\n",
        "Следующая часть (numpy и pandas) должна быть выполнена без использования python циклов.\n",
        "</font>\n",
        "</b>\n",
        "</h1>"
      ],
      "metadata": {
        "id": "RmzEz3cWeA6_"
      }
    },
    {
      "cell_type": "code",
      "source": [
        "import numpy as np\n",
        "import pandas as pd\n",
        "import matplotlib.pyplot as plt\n",
        "import seaborn as sns\n",
        "\n",
        "from sklearn.datasets import load_breast_cancer\n",
        "# The breast cancer Wisconsin dataset (classification)"
      ],
      "metadata": {
        "id": "ds8r8jyMS-LW"
      },
      "execution_count": null,
      "outputs": []
    },
    {
      "cell_type": "markdown",
      "source": [
        "## Задача 5"
      ],
      "metadata": {
        "id": "WsPcTHfo-eto"
      }
    },
    {
      "cell_type": "markdown",
      "source": [
        "Создайте массив из 20 случайных чисел от 0 до 100 и оставьте только чётные."
      ],
      "metadata": {
        "id": "ywPN_EDn-scS"
      }
    },
    {
      "cell_type": "code",
      "source": [],
      "metadata": {
        "id": "MD7S9GjitNhv"
      },
      "execution_count": null,
      "outputs": []
    },
    {
      "cell_type": "markdown",
      "source": [
        "## Задача 6"
      ],
      "metadata": {
        "id": "Tr0vDmSS-hW3"
      }
    },
    {
      "cell_type": "markdown",
      "source": [
        "Создайте массив из 10 случайных чисел от 0 до 10. Найдите все уникальные элементы и их количество."
      ],
      "metadata": {
        "id": "Q_YWbDKe-tBf"
      }
    },
    {
      "cell_type": "code",
      "source": [],
      "metadata": {
        "id": "BUCzcxXQ9brD"
      },
      "execution_count": null,
      "outputs": []
    },
    {
      "cell_type": "markdown",
      "source": [
        "## Задача 7"
      ],
      "metadata": {
        "id": "AcUypbua-iZp"
      }
    },
    {
      "cell_type": "markdown",
      "source": [
        "Создайте массив из 10 случайных чисел от -10 до 10. Замените все отрицательные числа в массиве на 0."
      ],
      "metadata": {
        "id": "rXHcLZq_-tdX"
      }
    },
    {
      "cell_type": "code",
      "source": [],
      "metadata": {
        "id": "JmnW-EFfWKIl"
      },
      "execution_count": null,
      "outputs": []
    },
    {
      "cell_type": "markdown",
      "source": [
        "## Задача 8"
      ],
      "metadata": {
        "id": "DQA7eesu-jZD"
      }
    },
    {
      "cell_type": "code",
      "source": [
        "# Про датасет для 8-10 заданий можно чуть детальнее прочитать тут:\n",
        "# https://scikit-learn.org/stable/modules/generated/sklearn.datasets.load_breast_cancer.html\n",
        "\n",
        "# Также можете прочитать в интернете про данный датасет."
      ],
      "metadata": {
        "id": "L2mTNxC8iYs8"
      },
      "execution_count": null,
      "outputs": []
    },
    {
      "cell_type": "markdown",
      "source": [
        "Загрузите датасет load_breast_cancer с такими параметрами: return_X_y=False и as_frame=True. Получите список колонок в данном датасете (в читаемом формате,  это важно).\n",
        "\n",
        "Также получите процентное соотношение чисел в целевой переменной (переменная target, там два класса, то есть 0 и 1)."
      ],
      "metadata": {
        "id": "nUJ7ia-z-uEK"
      }
    },
    {
      "cell_type": "code",
      "source": [],
      "metadata": {
        "id": "nEOCrGHzjdxu"
      },
      "execution_count": null,
      "outputs": []
    },
    {
      "cell_type": "markdown",
      "source": [
        "## Задача 9"
      ],
      "metadata": {
        "id": "F3hjWy6v-lFF"
      }
    },
    {
      "cell_type": "markdown",
      "source": [
        "Постройте гистограмму в seaborn для переменной 'mean area' с hue в качестве целевой переменной и добавьте параметр kde=True.\n",
        "\n",
        "Постройте диаграмму рассеяния в seaborn для переменных 'mean radius' (это x) и 'mean texture' (это y) с hue в качестве целевой переменной."
      ],
      "metadata": {
        "id": "vAXZFmwB-vCQ"
      }
    },
    {
      "cell_type": "code",
      "source": [],
      "metadata": {
        "id": "Lx-IEHAIpWhJ"
      },
      "execution_count": null,
      "outputs": []
    },
    {
      "cell_type": "markdown",
      "source": [
        "## Задача 10"
      ],
      "metadata": {
        "id": "1g3o-oTB-kXS"
      }
    },
    {
      "cell_type": "markdown",
      "source": [
        "Постройте через тепловую карту матрицу корреляции для первых десяти переменных."
      ],
      "metadata": {
        "id": "CO9PkXhB-ulh"
      }
    },
    {
      "cell_type": "code",
      "source": [],
      "metadata": {
        "id": "TuHvnnvUjtr7"
      },
      "execution_count": null,
      "outputs": []
    },
    {
      "cell_type": "code",
      "source": [],
      "metadata": {
        "id": "aBVHwtIbku3h"
      },
      "execution_count": null,
      "outputs": []
    }
  ]
}